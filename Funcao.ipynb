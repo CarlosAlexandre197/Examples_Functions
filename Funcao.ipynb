{
 "cells": [
  {
   "cell_type": "code",
   "execution_count": 7,
   "metadata": {},
   "outputs": [
    {
     "name": "stdout",
     "output_type": "stream",
     "text": [
      "Olá, Alexandre! \n",
      "Sua idade é: 35. \n",
      "Sexo: Masculino.\n"
     ]
    }
   ],
   "source": [
    "def apresentacao(nome, idade, sexo):\n",
    "    print(f'Olá, {nome}! \\nSua idade é: {idade}. \\nSexo: {sexo}.')  \n",
    "\n",
    "apresentacao('Alexandre', 35, 'Masculino')  "
   ]
  },
  {
   "cell_type": "code",
   "execution_count": 8,
   "metadata": {},
   "outputs": [
    {
     "data": {
      "text/plain": [
       "370"
      ]
     },
     "execution_count": 8,
     "metadata": {},
     "output_type": "execute_result"
    }
   ],
   "source": [
    "def soma_dois_numeros(primeiro_numero, segundo_numero):\n",
    "    return primeiro_numero + segundo_numero\n",
    "soma_dois_numeros(350, 20 )"
   ]
  },
  {
   "cell_type": "code",
   "execution_count": 9,
   "metadata": {},
   "outputs": [
    {
     "name": "stdout",
     "output_type": "stream",
     "text": [
      "65\n"
     ]
    }
   ],
   "source": [
    "def soma_dois_numeros(primeiro_numero, segundo_numero):\n",
    "    return primeiro_numero + segundo_numero\n",
    "print(soma_dois_numeros(50, 15))\n"
   ]
  },
  {
   "cell_type": "code",
   "execution_count": 10,
   "metadata": {},
   "outputs": [
    {
     "name": "stdout",
     "output_type": "stream",
     "text": [
      "256\n"
     ]
    }
   ],
   "source": [
    "def potencia(x, expoente=2):\n",
    "    return x ** expoente\n",
    "print(potencia(4, expoente=4))\n"
   ]
  },
  {
   "cell_type": "code",
   "execution_count": 11,
   "metadata": {},
   "outputs": [
    {
     "name": "stdout",
     "output_type": "stream",
     "text": [
      "16\n"
     ]
    }
   ],
   "source": [
    "def potencia(x, expoente=2):\n",
    "    return x ** expoente\n",
    "print(potencia(4))\n"
   ]
  },
  {
   "cell_type": "code",
   "execution_count": 12,
   "metadata": {},
   "outputs": [
    {
     "name": "stdout",
     "output_type": "stream",
     "text": [
      "360.0\n",
      "600.0\n",
      "300.0\n",
      "300.0\n"
     ]
    }
   ],
   "source": [
    "def juros_simples(capital, taxa, tempo):\n",
    "    return capital * (taxa / 100) * tempo\n",
    "print(juros_simples(1000, 3, 12))\n",
    "print(juros_simples(capital = 2000, taxa = 10, tempo = 3))\n",
    "print(juros_simples(1000, tempo = 6, taxa = 5))\n",
    "print(juros_simples(1000, 5, 6))\n"
   ]
  },
  {
   "cell_type": "code",
   "execution_count": 14,
   "metadata": {},
   "outputs": [
    {
     "name": "stdout",
     "output_type": "stream",
     "text": [
      "a_b\n",
      "a_b_c_d\n",
      "Te_Amo_Ester\n"
     ]
    }
   ],
   "source": [
    "def mistura_palavras(*args):\n",
    "    return '_'.join(args)\n",
    "print(mistura_palavras('a', 'b'))\n",
    "print(mistura_palavras('a', 'b', 'c', 'd'))\n",
    "print(mistura_palavras('Te', 'Amo', 'Ester'))"
   ]
  }
 ],
 "metadata": {
  "kernelspec": {
   "display_name": "Python 3",
   "language": "python",
   "name": "python3"
  },
  "language_info": {
   "codemirror_mode": {
    "name": "ipython",
    "version": 3
   },
   "file_extension": ".py",
   "mimetype": "text/x-python",
   "name": "python",
   "nbconvert_exporter": "python",
   "pygments_lexer": "ipython3",
   "version": "3.11.2"
  },
  "orig_nbformat": 4
 },
 "nbformat": 4,
 "nbformat_minor": 2
}
